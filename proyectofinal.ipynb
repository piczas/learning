{
 "cells": [
  {
   "cell_type": "markdown",
   "metadata": {},
   "source": [
    "<center>\n",
    "    <img src=\"https://cf-courses-data.s3.us.cloud-object-storage.appdomain.cloud/IBMDeveloperSkillsNetwork-DS0105EN-SkillsNetwork/labs/Module2/images/SN_web_lightmode.png\" width=\"300\" alt=\"cognitiveclass.ai logo\">\n",
    "</center>\n"
   ]
  },
  {
   "cell_type": "markdown",
   "metadata": {
    "tags": []
   },
   "source": [
    "#### Add your code below following the instructions given in the course\n"
   ]
  },
  {
   "cell_type": "markdown",
   "metadata": {
    "tags": []
   },
   "source": [
    "\n",
    "Final proyect"
   ]
  },
  {
   "cell_type": "markdown",
   "metadata": {
    "tags": []
   },
   "source": [
    "introductionJupyter is an interactive programming environment and an open-source platform widely used in data science, research, and education. It allows for the creation and sharing of documents called \"notebooks\" that combine code, rich text, visualizations, and other interactive elements."
   ]
  },
  {
   "cell_type": "markdown",
   "metadata": {},
   "source": [
    "Data cience lenguages:\n",
    "Python\n",
    "R\n",
    "SQL\n",
    "Julia\n",
    "Java\n",
    "Scala\n",
    "MATLAB\n",
    "SAS\n",
    "C/C++"
   ]
  },
  {
   "cell_type": "markdown",
   "metadata": {},
   "source": [
    " list data science libraries\n",
    " Python:\n",
    "NumPy\n",
    "Pandas\n",
    "Matplotlib\n",
    "Seaborn\n",
    "Scikit-learn\n",
    "TensorFlow\n",
    "Keras\n",
    "PyTorch\n",
    "NLTK\n",
    "SpaCy\n",
    "R:\n",
    "dplyr\n",
    "ggplot2\n",
    "caret\n",
    "tidyr\n",
    "data.table\n",
    "lubridate\n",
    "stringr\n",
    "reshape2\n",
    "rpart\n",
    "randomForest\n",
    "    "
   ]
  },
  {
   "cell_type": "markdown",
   "metadata": {},
   "source": [
    "| Tool              | Description                                                                      |\n",
    "|-------------------|----------------------------------------------------------------------------------|\n",
    "| Python            | General-purpose programming language with rich data science libraries and frameworks. |\n",
    "| R                 | Statistical programming language with extensive data analysis and visualization capabilities. |\n",
    "| SQL               | Language used for managing and manipulating relational databases. |\n",
    "| Jupyter Notebook  | Interactive web-based environment for creating and sharing documents combining code, text, and visualizations. |\n",
    "| Apache Hadoop     | Framework for distributed storage and processing of large datasets across clusters of computers. |\n",
    "| Apache Spark      | Fast and general-purpose cluster computing system for big data processing and analytics. |\n",
    "| Tableau           | Data visualization tool for creating interactive and insightful visualizations and dashboards. |\n"
   ]
  },
  {
   "cell_type": "markdown",
   "metadata": {
    "tags": []
   },
   "source": [
    " introducing arithmetic expression examples\n",
    "Addition (+)\n",
    "Subtraction (-)\n",
    "Multiplication (*)\n",
    "Division (/)\n",
    "Floor division (//)\n",
    "Modulus (%)\n",
    "Exponentiation (**)"
   ]
  },
  {
   "cell_type": "code",
   "execution_count": 12,
   "metadata": {
    "tags": []
   },
   "outputs": [
    {
     "name": "stdout",
     "output_type": "stream",
     "text": [
      "Multiplication Result: 15\n",
      "Addition Result: 17\n"
     ]
    }
   ],
   "source": [
    "# Multiplication\n",
    "a = 5\n",
    "b = 3\n",
    "multiplication_result = a * b\n",
    "\n",
    "# Addition\n",
    "c = 2\n",
    "addition_result = multiplication_result + c\n",
    "\n",
    "print(\"Multiplication Result:\", multiplication_result)\n",
    "print(\"Addition Result:\", addition_result)\n",
    "\n"
   ]
  },
  {
   "cell_type": "code",
   "execution_count": 13,
   "metadata": {
    "tags": []
   },
   "outputs": [
    {
     "name": "stdout",
     "output_type": "stream",
     "text": [
      "Hours: 2.5\n"
     ]
    }
   ],
   "source": [
    "minutes = 150\n",
    "hours = minutes / 60\n",
    "\n",
    "print(\"Hours:\", hours)\n"
   ]
  },
  {
   "cell_type": "markdown",
   "metadata": {},
   "source": [
    "list Objectives\n",
    "1.-Interactive computing\n",
    "2.-Data exploration and analysis\n",
    "3.-Data visualization"
   ]
  },
  {
   "cell_type": "markdown",
   "metadata": {},
   "source": [
    " indicate the Author’s name\n",
    "    Alex Adolfo Montaño Mogica\n",
    "    "
   ]
  },
  {
   "cell_type": "code",
   "execution_count": null,
   "metadata": {},
   "outputs": [],
   "source": []
  }
 ],
 "metadata": {
  "kernelspec": {
   "display_name": "Python",
   "language": "python",
   "name": "conda-env-python-py"
  },
  "language_info": {
   "codemirror_mode": {
    "name": "ipython",
    "version": 3
   },
   "file_extension": ".py",
   "mimetype": "text/x-python",
   "name": "python",
   "nbconvert_exporter": "python",
   "pygments_lexer": "ipython3",
   "version": "3.7.12"
  }
 },
 "nbformat": 4,
 "nbformat_minor": 4
}
